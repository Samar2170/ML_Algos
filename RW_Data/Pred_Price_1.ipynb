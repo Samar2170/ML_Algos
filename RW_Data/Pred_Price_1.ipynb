{
 "cells": [
  {
   "cell_type": "code",
   "execution_count": 1,
   "metadata": {},
   "outputs": [],
   "source": [
    "dir_path = \"FinanceDB/Assets\"\n",
    "import os\n"
   ]
  },
  {
   "cell_type": "code",
   "execution_count": 2,
   "metadata": {},
   "outputs": [],
   "source": [
    "import pandas as pd\n",
    "import math\n",
    "from sklearn import preprocessing, svm\n",
    "from sklearn.model_selection import train_test_split\n",
    "from sklearn.linear_model import LinearRegression\n",
    "import numpy as np"
   ]
  },
  {
   "cell_type": "code",
   "execution_count": 3,
   "metadata": {},
   "outputs": [
    {
     "data": {
      "text/plain": [
       "'/home/samar/Desktop/PROJECTS/Homer_3'"
      ]
     },
     "execution_count": 3,
     "metadata": {},
     "output_type": "execute_result"
    }
   ],
   "source": [
    "os.getcwd()"
   ]
  },
  {
   "cell_type": "code",
   "execution_count": 4,
   "metadata": {},
   "outputs": [],
   "source": [
    "df_price = pd.read_csv(f'{dir_path}/corp_prices/RELIANCE_10yr_price_md.csv')\n",
    "df_fed = pd.read_csv(f'{dir_path}/FRED/W/fed_assets.csv')"
   ]
  },
  {
   "cell_type": "code",
   "execution_count": 5,
   "metadata": {},
   "outputs": [],
   "source": [
    "df_price.set_index('date', inplace=True)\n",
    "df_price = df_price.drop('symbol',axis=1)"
   ]
  },
  {
   "cell_type": "code",
   "execution_count": 6,
   "metadata": {},
   "outputs": [
    {
     "data": {
      "text/html": [
       "<div>\n",
       "<style scoped>\n",
       "    .dataframe tbody tr th:only-of-type {\n",
       "        vertical-align: middle;\n",
       "    }\n",
       "\n",
       "    .dataframe tbody tr th {\n",
       "        vertical-align: top;\n",
       "    }\n",
       "\n",
       "    .dataframe thead th {\n",
       "        text-align: right;\n",
       "    }\n",
       "</style>\n",
       "<table border=\"1\" class=\"dataframe\">\n",
       "  <thead>\n",
       "    <tr style=\"text-align: right;\">\n",
       "      <th></th>\n",
       "      <th>low</th>\n",
       "      <th>volume</th>\n",
       "      <th>open</th>\n",
       "      <th>high</th>\n",
       "      <th>close</th>\n",
       "      <th>adjclose</th>\n",
       "      <th>splits</th>\n",
       "      <th>max_dv</th>\n",
       "      <th>close_dv</th>\n",
       "      <th>mov_1d</th>\n",
       "      <th>vol_1d</th>\n",
       "    </tr>\n",
       "    <tr>\n",
       "      <th>date</th>\n",
       "      <th></th>\n",
       "      <th></th>\n",
       "      <th></th>\n",
       "      <th></th>\n",
       "      <th></th>\n",
       "      <th></th>\n",
       "      <th></th>\n",
       "      <th></th>\n",
       "      <th></th>\n",
       "      <th></th>\n",
       "      <th></th>\n",
       "    </tr>\n",
       "  </thead>\n",
       "  <tbody>\n",
       "    <tr>\n",
       "      <th>1996-01-01</th>\n",
       "      <td>15.754989</td>\n",
       "      <td>48051995.0</td>\n",
       "      <td>15.859429</td>\n",
       "      <td>15.944529</td>\n",
       "      <td>15.917452</td>\n",
       "      <td>10.543346</td>\n",
       "      <td>0.0</td>\n",
       "      <td>0.012030</td>\n",
       "      <td>0.003659</td>\n",
       "      <td>NaN</td>\n",
       "      <td>NaN</td>\n",
       "    </tr>\n",
       "    <tr>\n",
       "      <th>1996-01-02</th>\n",
       "      <td>15.677626</td>\n",
       "      <td>77875009.0</td>\n",
       "      <td>15.878770</td>\n",
       "      <td>15.956133</td>\n",
       "      <td>15.793671</td>\n",
       "      <td>10.461358</td>\n",
       "      <td>0.0</td>\n",
       "      <td>0.017765</td>\n",
       "      <td>-0.005359</td>\n",
       "      <td>-0.007776</td>\n",
       "      <td>0.620640</td>\n",
       "    </tr>\n",
       "    <tr>\n",
       "      <th>1996-01-03</th>\n",
       "      <td>15.878770</td>\n",
       "      <td>96602936.0</td>\n",
       "      <td>16.052837</td>\n",
       "      <td>16.783918</td>\n",
       "      <td>15.913584</td>\n",
       "      <td>10.540785</td>\n",
       "      <td>0.0</td>\n",
       "      <td>0.057004</td>\n",
       "      <td>-0.008675</td>\n",
       "      <td>0.007592</td>\n",
       "      <td>0.240487</td>\n",
       "    </tr>\n",
       "    <tr>\n",
       "      <th>1996-01-04</th>\n",
       "      <td>15.553845</td>\n",
       "      <td>100099436.0</td>\n",
       "      <td>15.762726</td>\n",
       "      <td>15.813012</td>\n",
       "      <td>15.766594</td>\n",
       "      <td>10.443419</td>\n",
       "      <td>0.0</td>\n",
       "      <td>0.016663</td>\n",
       "      <td>0.000245</td>\n",
       "      <td>-0.009237</td>\n",
       "      <td>0.036195</td>\n",
       "    </tr>\n",
       "    <tr>\n",
       "      <th>1996-01-05</th>\n",
       "      <td>15.522900</td>\n",
       "      <td>76935930.0</td>\n",
       "      <td>15.704703</td>\n",
       "      <td>15.704703</td>\n",
       "      <td>15.658285</td>\n",
       "      <td>10.371678</td>\n",
       "      <td>0.0</td>\n",
       "      <td>0.011712</td>\n",
       "      <td>-0.002956</td>\n",
       "      <td>-0.006870</td>\n",
       "      <td>-0.231405</td>\n",
       "    </tr>\n",
       "  </tbody>\n",
       "</table>\n",
       "</div>"
      ],
      "text/plain": [
       "                  low       volume       open       high      close  \\\n",
       "date                                                                  \n",
       "1996-01-01  15.754989   48051995.0  15.859429  15.944529  15.917452   \n",
       "1996-01-02  15.677626   77875009.0  15.878770  15.956133  15.793671   \n",
       "1996-01-03  15.878770   96602936.0  16.052837  16.783918  15.913584   \n",
       "1996-01-04  15.553845  100099436.0  15.762726  15.813012  15.766594   \n",
       "1996-01-05  15.522900   76935930.0  15.704703  15.704703  15.658285   \n",
       "\n",
       "             adjclose  splits    max_dv  close_dv    mov_1d    vol_1d  \n",
       "date                                                                   \n",
       "1996-01-01  10.543346     0.0  0.012030  0.003659       NaN       NaN  \n",
       "1996-01-02  10.461358     0.0  0.017765 -0.005359 -0.007776  0.620640  \n",
       "1996-01-03  10.540785     0.0  0.057004 -0.008675  0.007592  0.240487  \n",
       "1996-01-04  10.443419     0.0  0.016663  0.000245 -0.009237  0.036195  \n",
       "1996-01-05  10.371678     0.0  0.011712 -0.002956 -0.006870 -0.231405  "
      ]
     },
     "execution_count": 6,
     "metadata": {},
     "output_type": "execute_result"
    }
   ],
   "source": [
    "df_fed.set_index('date', inplace=True)\n",
    "df_price = df_price.drop('Unnamed: 0', axis=1)\n",
    "df_price = df_price.drop('dividends', axis=1)\n",
    "df_price.head()"
   ]
  },
  {
   "cell_type": "code",
   "execution_count": 7,
   "metadata": {},
   "outputs": [
    {
     "data": {
      "text/html": [
       "<div>\n",
       "<style scoped>\n",
       "    .dataframe tbody tr th:only-of-type {\n",
       "        vertical-align: middle;\n",
       "    }\n",
       "\n",
       "    .dataframe tbody tr th {\n",
       "        vertical-align: top;\n",
       "    }\n",
       "\n",
       "    .dataframe thead th {\n",
       "        text-align: right;\n",
       "    }\n",
       "</style>\n",
       "<table border=\"1\" class=\"dataframe\">\n",
       "  <thead>\n",
       "    <tr style=\"text-align: right;\">\n",
       "      <th></th>\n",
       "      <th>low</th>\n",
       "      <th>volume</th>\n",
       "      <th>open</th>\n",
       "      <th>high</th>\n",
       "      <th>close</th>\n",
       "      <th>adjclose</th>\n",
       "      <th>max_dv</th>\n",
       "      <th>close_dv</th>\n",
       "      <th>mov_1d</th>\n",
       "      <th>vol_1d</th>\n",
       "    </tr>\n",
       "    <tr>\n",
       "      <th>date</th>\n",
       "      <th></th>\n",
       "      <th></th>\n",
       "      <th></th>\n",
       "      <th></th>\n",
       "      <th></th>\n",
       "      <th></th>\n",
       "      <th></th>\n",
       "      <th></th>\n",
       "      <th></th>\n",
       "      <th></th>\n",
       "    </tr>\n",
       "  </thead>\n",
       "  <tbody>\n",
       "    <tr>\n",
       "      <th>1996-01-01</th>\n",
       "      <td>15.754989</td>\n",
       "      <td>48051995.0</td>\n",
       "      <td>15.859429</td>\n",
       "      <td>15.944529</td>\n",
       "      <td>15.917452</td>\n",
       "      <td>10.543346</td>\n",
       "      <td>0.012030</td>\n",
       "      <td>0.003659</td>\n",
       "      <td>NaN</td>\n",
       "      <td>NaN</td>\n",
       "    </tr>\n",
       "    <tr>\n",
       "      <th>1996-01-02</th>\n",
       "      <td>15.677626</td>\n",
       "      <td>77875009.0</td>\n",
       "      <td>15.878770</td>\n",
       "      <td>15.956133</td>\n",
       "      <td>15.793671</td>\n",
       "      <td>10.461358</td>\n",
       "      <td>0.017765</td>\n",
       "      <td>-0.005359</td>\n",
       "      <td>-0.007776</td>\n",
       "      <td>0.620640</td>\n",
       "    </tr>\n",
       "    <tr>\n",
       "      <th>1996-01-03</th>\n",
       "      <td>15.878770</td>\n",
       "      <td>96602936.0</td>\n",
       "      <td>16.052837</td>\n",
       "      <td>16.783918</td>\n",
       "      <td>15.913584</td>\n",
       "      <td>10.540785</td>\n",
       "      <td>0.057004</td>\n",
       "      <td>-0.008675</td>\n",
       "      <td>0.007592</td>\n",
       "      <td>0.240487</td>\n",
       "    </tr>\n",
       "    <tr>\n",
       "      <th>1996-01-04</th>\n",
       "      <td>15.553845</td>\n",
       "      <td>100099436.0</td>\n",
       "      <td>15.762726</td>\n",
       "      <td>15.813012</td>\n",
       "      <td>15.766594</td>\n",
       "      <td>10.443419</td>\n",
       "      <td>0.016663</td>\n",
       "      <td>0.000245</td>\n",
       "      <td>-0.009237</td>\n",
       "      <td>0.036195</td>\n",
       "    </tr>\n",
       "    <tr>\n",
       "      <th>1996-01-05</th>\n",
       "      <td>15.522900</td>\n",
       "      <td>76935930.0</td>\n",
       "      <td>15.704703</td>\n",
       "      <td>15.704703</td>\n",
       "      <td>15.658285</td>\n",
       "      <td>10.371678</td>\n",
       "      <td>0.011712</td>\n",
       "      <td>-0.002956</td>\n",
       "      <td>-0.006870</td>\n",
       "      <td>-0.231405</td>\n",
       "    </tr>\n",
       "  </tbody>\n",
       "</table>\n",
       "</div>"
      ],
      "text/plain": [
       "                  low       volume       open       high      close  \\\n",
       "date                                                                  \n",
       "1996-01-01  15.754989   48051995.0  15.859429  15.944529  15.917452   \n",
       "1996-01-02  15.677626   77875009.0  15.878770  15.956133  15.793671   \n",
       "1996-01-03  15.878770   96602936.0  16.052837  16.783918  15.913584   \n",
       "1996-01-04  15.553845  100099436.0  15.762726  15.813012  15.766594   \n",
       "1996-01-05  15.522900   76935930.0  15.704703  15.704703  15.658285   \n",
       "\n",
       "             adjclose    max_dv  close_dv    mov_1d    vol_1d  \n",
       "date                                                           \n",
       "1996-01-01  10.543346  0.012030  0.003659       NaN       NaN  \n",
       "1996-01-02  10.461358  0.017765 -0.005359 -0.007776  0.620640  \n",
       "1996-01-03  10.540785  0.057004 -0.008675  0.007592  0.240487  \n",
       "1996-01-04  10.443419  0.016663  0.000245 -0.009237  0.036195  \n",
       "1996-01-05  10.371678  0.011712 -0.002956 -0.006870 -0.231405  "
      ]
     },
     "execution_count": 7,
     "metadata": {},
     "output_type": "execute_result"
    }
   ],
   "source": [
    "df_price = df_price.drop('splits', axis=1)\n",
    "df_price.head()"
   ]
  },
  {
   "cell_type": "code",
   "execution_count": 8,
   "metadata": {},
   "outputs": [
    {
     "data": {
      "text/html": [
       "<div>\n",
       "<style scoped>\n",
       "    .dataframe tbody tr th:only-of-type {\n",
       "        vertical-align: middle;\n",
       "    }\n",
       "\n",
       "    .dataframe tbody tr th {\n",
       "        vertical-align: top;\n",
       "    }\n",
       "\n",
       "    .dataframe thead th {\n",
       "        text-align: right;\n",
       "    }\n",
       "</style>\n",
       "<table border=\"1\" class=\"dataframe\">\n",
       "  <thead>\n",
       "    <tr style=\"text-align: right;\">\n",
       "      <th></th>\n",
       "      <th>low</th>\n",
       "      <th>volume</th>\n",
       "      <th>open</th>\n",
       "      <th>high</th>\n",
       "      <th>close</th>\n",
       "      <th>adjclose</th>\n",
       "      <th>max_dv</th>\n",
       "      <th>close_dv</th>\n",
       "      <th>mov_1d</th>\n",
       "      <th>vol_1d</th>\n",
       "    </tr>\n",
       "    <tr>\n",
       "      <th>date</th>\n",
       "      <th></th>\n",
       "      <th></th>\n",
       "      <th></th>\n",
       "      <th></th>\n",
       "      <th></th>\n",
       "      <th></th>\n",
       "      <th></th>\n",
       "      <th></th>\n",
       "      <th></th>\n",
       "      <th></th>\n",
       "    </tr>\n",
       "  </thead>\n",
       "  <tbody>\n",
       "    <tr>\n",
       "      <th>1996-01-01</th>\n",
       "      <td>15.754989</td>\n",
       "      <td>48051995.0</td>\n",
       "      <td>15.859429</td>\n",
       "      <td>15.944529</td>\n",
       "      <td>15.917452</td>\n",
       "      <td>10.543346</td>\n",
       "      <td>0.012030</td>\n",
       "      <td>0.003659</td>\n",
       "      <td>NaN</td>\n",
       "      <td>NaN</td>\n",
       "    </tr>\n",
       "    <tr>\n",
       "      <th>1996-01-02</th>\n",
       "      <td>15.677626</td>\n",
       "      <td>77875009.0</td>\n",
       "      <td>15.878770</td>\n",
       "      <td>15.956133</td>\n",
       "      <td>15.793671</td>\n",
       "      <td>10.461358</td>\n",
       "      <td>0.017765</td>\n",
       "      <td>-0.005359</td>\n",
       "      <td>-0.007776</td>\n",
       "      <td>0.620640</td>\n",
       "    </tr>\n",
       "    <tr>\n",
       "      <th>1996-01-03</th>\n",
       "      <td>15.878770</td>\n",
       "      <td>96602936.0</td>\n",
       "      <td>16.052837</td>\n",
       "      <td>16.783918</td>\n",
       "      <td>15.913584</td>\n",
       "      <td>10.540785</td>\n",
       "      <td>0.057004</td>\n",
       "      <td>-0.008675</td>\n",
       "      <td>0.007592</td>\n",
       "      <td>0.240487</td>\n",
       "    </tr>\n",
       "    <tr>\n",
       "      <th>1996-01-04</th>\n",
       "      <td>15.553845</td>\n",
       "      <td>100099436.0</td>\n",
       "      <td>15.762726</td>\n",
       "      <td>15.813012</td>\n",
       "      <td>15.766594</td>\n",
       "      <td>10.443419</td>\n",
       "      <td>0.016663</td>\n",
       "      <td>0.000245</td>\n",
       "      <td>-0.009237</td>\n",
       "      <td>0.036195</td>\n",
       "    </tr>\n",
       "    <tr>\n",
       "      <th>1996-01-05</th>\n",
       "      <td>15.522900</td>\n",
       "      <td>76935930.0</td>\n",
       "      <td>15.704703</td>\n",
       "      <td>15.704703</td>\n",
       "      <td>15.658285</td>\n",
       "      <td>10.371678</td>\n",
       "      <td>0.011712</td>\n",
       "      <td>-0.002956</td>\n",
       "      <td>-0.006870</td>\n",
       "      <td>-0.231405</td>\n",
       "    </tr>\n",
       "  </tbody>\n",
       "</table>\n",
       "</div>"
      ],
      "text/plain": [
       "                  low       volume       open       high      close  \\\n",
       "date                                                                  \n",
       "1996-01-01  15.754989   48051995.0  15.859429  15.944529  15.917452   \n",
       "1996-01-02  15.677626   77875009.0  15.878770  15.956133  15.793671   \n",
       "1996-01-03  15.878770   96602936.0  16.052837  16.783918  15.913584   \n",
       "1996-01-04  15.553845  100099436.0  15.762726  15.813012  15.766594   \n",
       "1996-01-05  15.522900   76935930.0  15.704703  15.704703  15.658285   \n",
       "\n",
       "             adjclose    max_dv  close_dv    mov_1d    vol_1d  \n",
       "date                                                           \n",
       "1996-01-01  10.543346  0.012030  0.003659       NaN       NaN  \n",
       "1996-01-02  10.461358  0.017765 -0.005359 -0.007776  0.620640  \n",
       "1996-01-03  10.540785  0.057004 -0.008675  0.007592  0.240487  \n",
       "1996-01-04  10.443419  0.016663  0.000245 -0.009237  0.036195  \n",
       "1996-01-05  10.371678  0.011712 -0.002956 -0.006870 -0.231405  "
      ]
     },
     "execution_count": 8,
     "metadata": {},
     "output_type": "execute_result"
    }
   ],
   "source": [
    "df_price.head()"
   ]
  },
  {
   "cell_type": "code",
   "execution_count": 9,
   "metadata": {},
   "outputs": [],
   "source": [
    "forecast_col = 'close'\n",
    "forecast_out = int(math.ceil(0.01*len(df_price)))"
   ]
  },
  {
   "cell_type": "code",
   "execution_count": 10,
   "metadata": {},
   "outputs": [],
   "source": [
    "dfp = df_price"
   ]
  },
  {
   "cell_type": "code",
   "execution_count": 11,
   "metadata": {},
   "outputs": [],
   "source": [
    "dfp['label'] = dfp[forecast_col].shift(-forecast_out)"
   ]
  },
  {
   "cell_type": "code",
   "execution_count": 12,
   "metadata": {},
   "outputs": [],
   "source": [
    "dfp['max_dv'] = dfp['max_dv'] * 100\n",
    "dfp['mov_1d'] = dfp['mov_1d'] * 100\n",
    "dfp['close_dv'] = dfp['close_dv'] * 100\n",
    "dfp['vol_1d'] = dfp['vol_1d'] * 100"
   ]
  },
  {
   "cell_type": "code",
   "execution_count": 13,
   "metadata": {},
   "outputs": [],
   "source": [
    "\n",
    "dfp.dropna(inplace=True)"
   ]
  },
  {
   "cell_type": "code",
   "execution_count": 14,
   "metadata": {},
   "outputs": [],
   "source": [
    "dfp.replace([np.inf, -np.inf], np.nan, inplace=True)\n",
    "dfp.head()\n",
    "dfp.fillna(-9999, inplace=True)"
   ]
  },
  {
   "cell_type": "code",
   "execution_count": 15,
   "metadata": {},
   "outputs": [],
   "source": [
    "X = np.array(dfp.drop(['label'],1))\n",
    "y = np.array(dfp['label'])\n"
   ]
  },
  {
   "cell_type": "code",
   "execution_count": 16,
   "metadata": {},
   "outputs": [],
   "source": [
    "X = preprocessing.scale(X)"
   ]
  },
  {
   "cell_type": "raw",
   "metadata": {},
   "source": [
    "\n"
   ]
  },
  {
   "cell_type": "code",
   "execution_count": 17,
   "metadata": {},
   "outputs": [],
   "source": [
    "X_train, X_test, y_train, y_test = train_test_split(X,y, test_size=0.1)"
   ]
  },
  {
   "cell_type": "code",
   "execution_count": 18,
   "metadata": {},
   "outputs": [
    {
     "data": {
      "text/plain": [
       "SVR()"
      ]
     },
     "execution_count": 18,
     "metadata": {},
     "output_type": "execute_result"
    }
   ],
   "source": [
    "clf = svm.SVR()\n",
    "clf.fit(X_train, y_train)"
   ]
  },
  {
   "cell_type": "code",
   "execution_count": 19,
   "metadata": {},
   "outputs": [
    {
     "name": "stdout",
     "output_type": "stream",
     "text": [
      "0.6077331737544558\n"
     ]
    }
   ],
   "source": [
    "conf = clf.score(X_test, y_test)\n",
    "print(conf)"
   ]
  },
  {
   "cell_type": "code",
   "execution_count": 20,
   "metadata": {},
   "outputs": [],
   "source": [
    "clf = LinearRegression()\n",
    "clf.fit(X_train, y_train)\n",
    "con = clf.score(X_test, y_test)"
   ]
  },
  {
   "cell_type": "code",
   "execution_count": 21,
   "metadata": {},
   "outputs": [
    {
     "name": "stdout",
     "output_type": "stream",
     "text": [
      "0.9581360449031081\n"
     ]
    }
   ],
   "source": [
    "print(con)"
   ]
  },
  {
   "cell_type": "code",
   "execution_count": 22,
   "metadata": {},
   "outputs": [
    {
     "name": "stdout",
     "output_type": "stream",
     "text": [
      "linear 0.955923086643051\n",
      "poly 0.5798967397694235\n",
      "rbf 0.6077331737544558\n",
      "sigmoid 0.620757532842123\n"
     ]
    }
   ],
   "source": [
    "for k in ['linear', 'poly', 'rbf','sigmoid']:\n",
    "    clf = svm.SVR(kernel=k)\n",
    "    clf.fit(X_train, y_train)\n",
    "    confidence = clf.score(X_test, y_test)\n",
    "    print(k, confidence)"
   ]
  },
  {
   "cell_type": "code",
   "execution_count": null,
   "metadata": {},
   "outputs": [],
   "source": []
  }
 ],
 "metadata": {
  "kernelspec": {
   "display_name": "Python 3",
   "language": "python",
   "name": "python3"
  },
  "language_info": {
   "codemirror_mode": {
    "name": "ipython",
    "version": 3
   },
   "file_extension": ".py",
   "mimetype": "text/x-python",
   "name": "python",
   "nbconvert_exporter": "python",
   "pygments_lexer": "ipython3",
   "version": "3.8.5"
  }
 },
 "nbformat": 4,
 "nbformat_minor": 4
}
