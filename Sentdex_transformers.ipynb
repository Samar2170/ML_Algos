{
 "cells": [
  {
   "cell_type": "code",
   "execution_count": 1,
   "metadata": {},
   "outputs": [
    {
     "name": "stdout",
     "output_type": "stream",
     "text": [
      "/home/samar/anaconda3/lib/python3.8/site-packages/secretstorage/dhcrypto.py:16: CryptographyDeprecationWarning: int_from_bytes is deprecated, use int.from_bytes instead\n",
      "  from cryptography.utils import int_from_bytes\n",
      "/home/samar/anaconda3/lib/python3.8/site-packages/secretstorage/util.py:25: CryptographyDeprecationWarning: int_from_bytes is deprecated, use int.from_bytes instead\n",
      "  from cryptography.utils import int_from_bytes\n",
      "Collecting pygithub\n",
      "  Downloading PyGithub-1.55-py3-none-any.whl (291 kB)\n",
      "\u001b[K     |████████████████████████████████| 291 kB 2.2 MB/s eta 0:00:01\n",
      "\u001b[?25hCollecting pyjwt>=2.0\n",
      "  Downloading PyJWT-2.1.0-py3-none-any.whl (16 kB)\n",
      "Requirement already satisfied: requests>=2.14.0 in ./.local/lib/python3.8/site-packages (from pygithub) (2.25.1)\n",
      "Collecting pynacl>=1.4.0\n",
      "  Downloading PyNaCl-1.4.0-cp35-abi3-manylinux1_x86_64.whl (961 kB)\n",
      "\u001b[K     |████████████████████████████████| 961 kB 13.8 MB/s eta 0:00:01\n",
      "\u001b[?25hRequirement already satisfied: deprecated in ./anaconda3/lib/python3.8/site-packages (from pygithub) (1.2.12)\n",
      "Requirement already satisfied: idna<3,>=2.5 in ./anaconda3/lib/python3.8/site-packages (from requests>=2.14.0->pygithub) (2.10)\n",
      "Requirement already satisfied: chardet<5,>=3.0.2 in ./anaconda3/lib/python3.8/site-packages (from requests>=2.14.0->pygithub) (4.0.0)\n",
      "Requirement already satisfied: certifi>=2017.4.17 in ./anaconda3/lib/python3.8/site-packages (from requests>=2.14.0->pygithub) (2020.12.5)\n",
      "Requirement already satisfied: urllib3<1.27,>=1.21.1 in ./anaconda3/lib/python3.8/site-packages (from requests>=2.14.0->pygithub) (1.26.4)\n",
      "Requirement already satisfied: six in ./anaconda3/lib/python3.8/site-packages (from pynacl>=1.4.0->pygithub) (1.15.0)\n",
      "Requirement already satisfied: cffi>=1.4.1 in ./.local/lib/python3.8/site-packages (from pynacl>=1.4.0->pygithub) (1.14.4)\n",
      "Requirement already satisfied: wrapt<2,>=1.10 in ./anaconda3/lib/python3.8/site-packages (from deprecated->pygithub) (1.12.1)\n",
      "Requirement already satisfied: pycparser in ./.local/lib/python3.8/site-packages (from cffi>=1.4.1->pynacl>=1.4.0->pygithub) (2.20)\n",
      "Installing collected packages: pyjwt, pynacl, pygithub\n",
      "  Attempting uninstall: pyjwt\n",
      "    Found existing installation: PyJWT 1.7.1\n",
      "    Uninstalling PyJWT-1.7.1:\n",
      "      Successfully uninstalled PyJWT-1.7.1\n",
      "\u001b[31mERROR: After October 2020 you may experience errors when installing or updating packages. This is because pip will change the way that it resolves dependency conflicts.\n",
      "\n",
      "We recommend you use --use-feature=2020-resolver to test your packages with the new resolver before it becomes the default.\n",
      "\n",
      "twilio 6.53.0 requires PyJWT==1.7.1, but you'll have pyjwt 2.1.0 which is incompatible.\u001b[0m\n",
      "Successfully installed pygithub-1.55 pyjwt-2.1.0 pynacl-1.4.0\n"
     ]
    }
   ],
   "source": [
    "!pip install pygithub"
   ]
  },
  {
   "cell_type": "code",
   "execution_count": 2,
   "metadata": {},
   "outputs": [],
   "source": [
    "from github import Github"
   ]
  },
  {
   "cell_type": "code",
   "execution_count": 5,
   "metadata": {},
   "outputs": [
    {
     "name": "stdout",
     "output_type": "stream",
     "text": [
      "AuthenticatedUser(login=None)\n"
     ]
    }
   ],
   "source": [
    "ACESS_TOKEN = open(\"gkey.txt\", \"r\").read()\n",
    "g = Github()\n",
    "print(g.get_user())"
   ]
  },
  {
   "cell_type": "code",
   "execution_count": 12,
   "metadata": {},
   "outputs": [
    {
     "name": "stdout",
     "output_type": "stream",
     "text": [
      "214\n"
     ]
    }
   ],
   "source": [
    "query = \"flask language:python created:2021-04-01..2021-04-02\"\n",
    "result = g.search_repositories(query)\n",
    "print(result.totalCount)"
   ]
  },
  {
   "cell_type": "code",
   "execution_count": 11,
   "metadata": {},
   "outputs": [
    {
     "name": "stdout",
     "output_type": "stream",
     "text": [
      "https://github.com/MrBin99/django-vite.git\n"
     ]
    }
   ],
   "source": [
    "for repository in result:\n",
    "    print(f\"{repository.clone_url}\")\n",
    "    break"
   ]
  },
  {
   "cell_type": "code",
   "execution_count": null,
   "metadata": {},
   "outputs": [],
   "source": [
    "repos = g.search_repositories(query='language:python')"
   ]
  },
  {
   "cell_type": "code",
   "execution_count": null,
   "metadata": {},
   "outputs": [],
   "source": []
  }
 ],
 "metadata": {
  "kernelspec": {
   "display_name": "Python 3",
   "language": "python",
   "name": "python3"
  },
  "language_info": {
   "codemirror_mode": {
    "name": "ipython",
    "version": 3
   },
   "file_extension": ".py",
   "mimetype": "text/x-python",
   "name": "python",
   "nbconvert_exporter": "python",
   "pygments_lexer": "ipython3",
   "version": "3.8.5"
  }
 },
 "nbformat": 4,
 "nbformat_minor": 4
}
