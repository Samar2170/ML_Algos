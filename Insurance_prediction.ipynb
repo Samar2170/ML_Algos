{
 "cells": [
  {
   "cell_type": "code",
   "execution_count": 1,
   "metadata": {},
   "outputs": [],
   "source": [
    "import torch\n",
    "import torchvision\n",
    "import torch.nn as nn\n",
    "import pandas as pd\n",
    "import matplotlib.pyplot as plt\n",
    "import torch.nn.functional as F\n",
    "from torchvision.datasets.utils import download_url\n",
    "from torch.utils.data import DataLoader, TensorDataset, random_split"
   ]
  },
  {
   "cell_type": "code",
   "execution_count": 2,
   "metadata": {},
   "outputs": [
    {
     "name": "stdout",
     "output_type": "stream",
     "text": [
      "Downloading https://hub.jovian.ml/wp-content/uploads/2020/05/insurance.csv to ./insurance.csv\n"
     ]
    },
    {
     "data": {
      "application/vnd.jupyter.widget-view+json": {
       "model_id": "18fa9fb607234d1289981406621679fb",
       "version_major": 2,
       "version_minor": 0
      },
      "text/plain": [
       "  0%|          | 0/55628 [00:00<?, ?it/s]"
      ]
     },
     "metadata": {},
     "output_type": "display_data"
    }
   ],
   "source": [
    "DATASET_URL = \"https://hub.jovian.ml/wp-content/uploads/2020/05/insurance.csv\"\n",
    "DATA_FILENAME = \"insurance.csv\"\n",
    "download_url(DATASET_URL, '.')"
   ]
  },
  {
   "cell_type": "code",
   "execution_count": 3,
   "metadata": {},
   "outputs": [
    {
     "data": {
      "text/html": [
       "<div>\n",
       "<style scoped>\n",
       "    .dataframe tbody tr th:only-of-type {\n",
       "        vertical-align: middle;\n",
       "    }\n",
       "\n",
       "    .dataframe tbody tr th {\n",
       "        vertical-align: top;\n",
       "    }\n",
       "\n",
       "    .dataframe thead th {\n",
       "        text-align: right;\n",
       "    }\n",
       "</style>\n",
       "<table border=\"1\" class=\"dataframe\">\n",
       "  <thead>\n",
       "    <tr style=\"text-align: right;\">\n",
       "      <th></th>\n",
       "      <th>age</th>\n",
       "      <th>sex</th>\n",
       "      <th>bmi</th>\n",
       "      <th>children</th>\n",
       "      <th>smoker</th>\n",
       "      <th>region</th>\n",
       "      <th>charges</th>\n",
       "    </tr>\n",
       "  </thead>\n",
       "  <tbody>\n",
       "    <tr>\n",
       "      <th>0</th>\n",
       "      <td>19</td>\n",
       "      <td>female</td>\n",
       "      <td>27.900</td>\n",
       "      <td>0</td>\n",
       "      <td>yes</td>\n",
       "      <td>southwest</td>\n",
       "      <td>16884.92400</td>\n",
       "    </tr>\n",
       "    <tr>\n",
       "      <th>1</th>\n",
       "      <td>18</td>\n",
       "      <td>male</td>\n",
       "      <td>33.770</td>\n",
       "      <td>1</td>\n",
       "      <td>no</td>\n",
       "      <td>southeast</td>\n",
       "      <td>1725.55230</td>\n",
       "    </tr>\n",
       "    <tr>\n",
       "      <th>2</th>\n",
       "      <td>28</td>\n",
       "      <td>male</td>\n",
       "      <td>33.000</td>\n",
       "      <td>3</td>\n",
       "      <td>no</td>\n",
       "      <td>southeast</td>\n",
       "      <td>4449.46200</td>\n",
       "    </tr>\n",
       "    <tr>\n",
       "      <th>3</th>\n",
       "      <td>33</td>\n",
       "      <td>male</td>\n",
       "      <td>22.705</td>\n",
       "      <td>0</td>\n",
       "      <td>no</td>\n",
       "      <td>northwest</td>\n",
       "      <td>21984.47061</td>\n",
       "    </tr>\n",
       "    <tr>\n",
       "      <th>4</th>\n",
       "      <td>32</td>\n",
       "      <td>male</td>\n",
       "      <td>28.880</td>\n",
       "      <td>0</td>\n",
       "      <td>no</td>\n",
       "      <td>northwest</td>\n",
       "      <td>3866.85520</td>\n",
       "    </tr>\n",
       "  </tbody>\n",
       "</table>\n",
       "</div>"
      ],
      "text/plain": [
       "   age     sex     bmi  children smoker     region      charges\n",
       "0   19  female  27.900         0    yes  southwest  16884.92400\n",
       "1   18    male  33.770         1     no  southeast   1725.55230\n",
       "2   28    male  33.000         3     no  southeast   4449.46200\n",
       "3   33    male  22.705         0     no  northwest  21984.47061\n",
       "4   32    male  28.880         0     no  northwest   3866.85520"
      ]
     },
     "execution_count": 3,
     "metadata": {},
     "output_type": "execute_result"
    }
   ],
   "source": [
    "df_raw = pd.read_csv('insurance.csv')\n",
    "df_raw.head()"
   ]
  },
  {
   "cell_type": "code",
   "execution_count": 5,
   "metadata": {},
   "outputs": [],
   "source": [
    "def customize_ds(dfr, rand_str):\n",
    "    df = dfr.copy(deep=True)\n",
    "    #drop some rows\n",
    "    df = df.sample(int(0.95*len(df)), random_state=int(ord(rand_str[0])) )\n",
    "    #scale input\n",
    "    df.bmi = df.bmi*ord(rand_str[1])/100\n",
    "    #scale target\n",
    "    df.charges = df.charges * ord(rand_str[2])/100\n",
    "    if ord(rand_str[3]) %2 ==1:\n",
    "        df = df.drop(['region'], axis=1)\n",
    "    return df    "
   ]
  },
  {
   "cell_type": "code",
   "execution_count": 6,
   "metadata": {},
   "outputs": [
    {
     "data": {
      "text/html": [
       "<div>\n",
       "<style scoped>\n",
       "    .dataframe tbody tr th:only-of-type {\n",
       "        vertical-align: middle;\n",
       "    }\n",
       "\n",
       "    .dataframe tbody tr th {\n",
       "        vertical-align: top;\n",
       "    }\n",
       "\n",
       "    .dataframe thead th {\n",
       "        text-align: right;\n",
       "    }\n",
       "</style>\n",
       "<table border=\"1\" class=\"dataframe\">\n",
       "  <thead>\n",
       "    <tr style=\"text-align: right;\">\n",
       "      <th></th>\n",
       "      <th>age</th>\n",
       "      <th>sex</th>\n",
       "      <th>bmi</th>\n",
       "      <th>children</th>\n",
       "      <th>smoker</th>\n",
       "      <th>charges</th>\n",
       "    </tr>\n",
       "  </thead>\n",
       "  <tbody>\n",
       "    <tr>\n",
       "      <th>1178</th>\n",
       "      <td>23</td>\n",
       "      <td>female</td>\n",
       "      <td>33.81905</td>\n",
       "      <td>0</td>\n",
       "      <td>no</td>\n",
       "      <td>3160.443391</td>\n",
       "    </tr>\n",
       "    <tr>\n",
       "      <th>1295</th>\n",
       "      <td>20</td>\n",
       "      <td>male</td>\n",
       "      <td>21.34000</td>\n",
       "      <td>1</td>\n",
       "      <td>no</td>\n",
       "      <td>2141.610200</td>\n",
       "    </tr>\n",
       "    <tr>\n",
       "      <th>205</th>\n",
       "      <td>28</td>\n",
       "      <td>female</td>\n",
       "      <td>28.01360</td>\n",
       "      <td>1</td>\n",
       "      <td>no</td>\n",
       "      <td>4728.131368</td>\n",
       "    </tr>\n",
       "    <tr>\n",
       "      <th>1067</th>\n",
       "      <td>39</td>\n",
       "      <td>male</td>\n",
       "      <td>41.37535</td>\n",
       "      <td>0</td>\n",
       "      <td>no</td>\n",
       "      <td>6275.580660</td>\n",
       "    </tr>\n",
       "    <tr>\n",
       "      <th>523</th>\n",
       "      <td>38</td>\n",
       "      <td>female</td>\n",
       "      <td>36.59810</td>\n",
       "      <td>0</td>\n",
       "      <td>no</td>\n",
       "      <td>5883.402203</td>\n",
       "    </tr>\n",
       "  </tbody>\n",
       "</table>\n",
       "</div>"
      ],
      "text/plain": [
       "      age     sex       bmi  children smoker      charges\n",
       "1178   23  female  33.81905         0     no  3160.443391\n",
       "1295   20    male  21.34000         1     no  2141.610200\n",
       "205    28  female  28.01360         1     no  4728.131368\n",
       "1067   39    male  41.37535         0     no  6275.580660\n",
       "523    38  female  36.59810         0     no  5883.402203"
      ]
     },
     "execution_count": 6,
     "metadata": {},
     "output_type": "execute_result"
    }
   ],
   "source": [
    "dfc = customize_ds(df_raw, 'samararora')\n",
    "dfc.head()"
   ]
  },
  {
   "cell_type": "code",
   "execution_count": 19,
   "metadata": {},
   "outputs": [],
   "source": [
    "input_cols = ['age','bmi','sex','children','smoker']\n",
    "categorical_cols = ['sex','smoker']\n",
    "output_cols = ['charges']\n",
    "\n",
    "def df_to_array(df):\n",
    "    df1 = df.copy(deep=True)\n",
    "    for col in categorical_cols:\n",
    "        df1[col] = df1[col].astype('category').cat.codes\n",
    "    inputs_array = df1[input_cols].to_numpy()\n",
    "    targets_array = df1[output_cols].to_numpy()\n",
    "    return inputs_array, targets_array"
   ]
  },
  {
   "cell_type": "code",
   "execution_count": 20,
   "metadata": {},
   "outputs": [],
   "source": [
    "inputs_array, targets_array = df_to_array(dfc)"
   ]
  },
  {
   "cell_type": "code",
   "execution_count": 26,
   "metadata": {},
   "outputs": [
    {
     "data": {
      "text/plain": [
       "1271"
      ]
     },
     "execution_count": 26,
     "metadata": {},
     "output_type": "execute_result"
    }
   ],
   "source": [
    "len(inputs_array)"
   ]
  },
  {
   "cell_type": "code",
   "execution_count": 39,
   "metadata": {},
   "outputs": [
    {
     "data": {
      "text/plain": [
       "torch.device"
      ]
     },
     "execution_count": 39,
     "metadata": {},
     "output_type": "execute_result"
    }
   ],
   "source": [
    "torch.device"
   ]
  },
  {
   "cell_type": "code",
   "execution_count": 41,
   "metadata": {},
   "outputs": [],
   "source": [
    "cpu = torch.device('cpu')\n",
    "inputs = torch.Tensor(inputs_array)"
   ]
  },
  {
   "cell_type": "code",
   "execution_count": 42,
   "metadata": {},
   "outputs": [
    {
     "data": {
      "text/plain": [
       "torch.float32"
      ]
     },
     "execution_count": 42,
     "metadata": {},
     "output_type": "execute_result"
    }
   ],
   "source": [
    "inputs.dtype"
   ]
  },
  {
   "cell_type": "code",
   "execution_count": 43,
   "metadata": {},
   "outputs": [],
   "source": [
    "targets = torch.Tensor(targets_array)"
   ]
  },
  {
   "cell_type": "code",
   "execution_count": 44,
   "metadata": {},
   "outputs": [
    {
     "data": {
      "text/plain": [
       "torch.float32"
      ]
     },
     "execution_count": 44,
     "metadata": {},
     "output_type": "execute_result"
    }
   ],
   "source": [
    "targets.dtype"
   ]
  },
  {
   "cell_type": "code",
   "execution_count": 45,
   "metadata": {},
   "outputs": [],
   "source": [
    "dataset = TensorDataset(inputs, targets)"
   ]
  },
  {
   "cell_type": "code",
   "execution_count": 46,
   "metadata": {},
   "outputs": [],
   "source": [
    "val_pct = 0.1\n",
    "val_size = int(len(inputs)* val_pct)\n",
    "train_size = len(inputs) - val_size\n",
    "\n",
    "train_ds, val_ds = random_split(dataset,[train_size, val_size])"
   ]
  },
  {
   "cell_type": "code",
   "execution_count": 47,
   "metadata": {},
   "outputs": [],
   "source": [
    "batch_size = 32"
   ]
  },
  {
   "cell_type": "code",
   "execution_count": 48,
   "metadata": {},
   "outputs": [],
   "source": [
    "train_loader = DataLoader(train_ds, batch_size, shuffle=True)\n",
    "val_loader = DataLoader(val_ds, batch_size)"
   ]
  },
  {
   "cell_type": "code",
   "execution_count": 49,
   "metadata": {},
   "outputs": [
    {
     "name": "stdout",
     "output_type": "stream",
     "text": [
      "inputs tensor([[18.0000, 23.0375,  1.0000,  0.0000,  0.0000],\n",
      "        [54.0000, 32.6211,  1.0000,  1.0000,  0.0000],\n",
      "        [33.0000, 34.6775,  1.0000,  1.0000,  1.0000],\n",
      "        [43.0000, 24.3276,  0.0000,  0.0000,  0.0000],\n",
      "        [19.0000, 19.2060,  1.0000,  0.0000,  0.0000],\n",
      "        [22.0000, 20.6416,  0.0000,  3.0000,  0.0000],\n",
      "        [28.0000, 25.7147,  0.0000,  2.0000,  0.0000],\n",
      "        [52.0000, 23.5904,  1.0000,  3.0000,  1.0000],\n",
      "        [18.0000, 34.5563,  0.0000,  0.0000,  0.0000],\n",
      "        [31.0000, 21.1024,  0.0000,  0.0000,  0.0000],\n",
      "        [29.0000, 21.1945,  0.0000,  0.0000,  1.0000],\n",
      "        [35.0000, 26.7817,  1.0000,  1.0000,  0.0000],\n",
      "        [31.0000, 22.8920,  0.0000,  2.0000,  0.0000],\n",
      "        [18.0000, 24.4198,  1.0000,  0.0000,  1.0000],\n",
      "        [52.0000, 40.5460,  1.0000,  2.0000,  1.0000],\n",
      "        [47.0000, 27.3685,  1.0000,  4.0000,  0.0000],\n",
      "        [58.0000, 35.8464,  1.0000,  2.0000,  1.0000],\n",
      "        [18.0000, 30.7296,  1.0000,  2.0000,  1.0000],\n",
      "        [20.0000, 21.3400,  1.0000,  1.0000,  0.0000],\n",
      "        [28.0000, 26.1706,  1.0000,  2.0000,  0.0000],\n",
      "        [63.0000, 35.6620,  1.0000,  0.0000,  0.0000],\n",
      "        [47.0000, 35.1140,  1.0000,  1.0000,  0.0000],\n",
      "        [56.0000, 35.0170,  1.0000,  3.0000,  0.0000],\n",
      "        [46.0000, 38.2422,  1.0000,  1.0000,  0.0000],\n",
      "        [22.0000, 29.4880,  0.0000,  0.0000,  0.0000],\n",
      "        [38.0000, 16.3106,  1.0000,  2.0000,  0.0000],\n",
      "        [56.0000, 32.8054,  0.0000,  2.0000,  0.0000],\n",
      "        [55.0000, 28.1057,  1.0000,  0.0000,  0.0000],\n",
      "        [59.0000, 24.6962,  1.0000,  1.0000,  0.0000],\n",
      "        [47.0000, 26.9951,  0.0000,  0.0000,  1.0000],\n",
      "        [55.0000, 34.1440,  0.0000,  0.0000,  1.0000],\n",
      "        [44.0000, 38.3344,  1.0000,  0.0000,  0.0000]])\n",
      "targets tensor([[ 1859.1307],\n",
      "        [11799.5264],\n",
      "        [41728.1953],\n",
      "        [ 7984.3027],\n",
      "        [ 1353.3059],\n",
      "        [ 4682.9355],\n",
      "        [ 4731.0806],\n",
      "        [27108.1230],\n",
      "        [ 2410.1326],\n",
      "        [ 4506.1499],\n",
      "        [17565.6816],\n",
      "        [ 5174.2876],\n",
      "        [ 5375.4951],\n",
      "        [16914.8164],\n",
      "        [51524.1406],\n",
      "        [11343.7236],\n",
      "        [51771.1797],\n",
      "        [37390.4531],\n",
      "        [ 2141.6101],\n",
      "        [ 4834.2524],\n",
      "        [15240.2168],\n",
      "        [ 8794.3213],\n",
      "        [13476.2666],\n",
      "        [ 9093.7705],\n",
      "        [ 2988.7234],\n",
      "        [ 7238.1938],\n",
      "        [13781.2822],\n",
      "        [11768.0215],\n",
      "        [14076.2520],\n",
      "        [25141.3086],\n",
      "        [48421.9453],\n",
      "        [ 7574.0840]])\n"
     ]
    }
   ],
   "source": [
    "#targets and inputs specified before prob in DataLoader\n",
    "for xb,yb in train_loader:\n",
    "    print('inputs', xb)\n",
    "    print('targets', yb)\n",
    "    break\n",
    "    "
   ]
  },
  {
   "cell_type": "code",
   "execution_count": 50,
   "metadata": {},
   "outputs": [],
   "source": [
    "input_size = len(input_cols)\n",
    "output_size = len(output_cols)"
   ]
  },
  {
   "cell_type": "code",
   "execution_count": 90,
   "metadata": {},
   "outputs": [],
   "source": [
    "class InsuranceModel(nn.Module):\n",
    "    def __init__(self):\n",
    "        super().__init__()\n",
    "        self.linear = nn.Linear(input_size,output_size)\n",
    "    def forward(self,xb):\n",
    "        out = self.linear(xb)\n",
    "        return out\n",
    "    def training_step(self,batch):\n",
    "        inputs,targets = batch\n",
    "        out = self(inputs)\n",
    "        loss = F.mse_loss(out,targets)\n",
    "        return loss\n",
    "    def validation_step(self,batch):\n",
    "        inputs,targets = batch\n",
    "        out = self(inputs)\n",
    "        loss = F.mse_loss(out,targets)\n",
    "        return {'val_loss':loss}\n",
    "    \n",
    "    def validation_epoch_end(self,outputs):\n",
    "        batch_losses = [x['val_loss'] for x in outputs]\n",
    "        epoch_loss = torch.stack(batch_losses).mean()\n",
    "        return {'val_loss': epoch_loss.item()}\n",
    "        \n",
    "    def epoch_end(self, epoch,result, num_epochs):\n",
    "        if (epoch+1) % 20 or epoch == num_epochs-1:\n",
    "            print(\"Epoch [{}], val_loss: {:.4f}\".format(epoch+1, result['val_loss']))\n",
    "        \n",
    "        "
   ]
  },
  {
   "cell_type": "code",
   "execution_count": 91,
   "metadata": {},
   "outputs": [],
   "source": [
    "model = InsuranceModel()"
   ]
  },
  {
   "cell_type": "code",
   "execution_count": 92,
   "metadata": {},
   "outputs": [
    {
     "data": {
      "text/plain": [
       "[Parameter containing:\n",
       " tensor([[-0.2259, -0.2996, -0.4171, -0.2997, -0.0717]], requires_grad=True),\n",
       " Parameter containing:\n",
       " tensor([-0.2098], requires_grad=True)]"
      ]
     },
     "execution_count": 92,
     "metadata": {},
     "output_type": "execute_result"
    }
   ],
   "source": [
    "list(model.parameters())"
   ]
  },
  {
   "cell_type": "code",
   "execution_count": 93,
   "metadata": {},
   "outputs": [],
   "source": [
    "import torch.optim as optim\n",
    "\n",
    "def evaluate(model, val_loader):\n",
    "    outputs = [model.validation_step(batch) for batch in val_loader]\n",
    "    return model.validation_epoch_end(outputs)\n",
    "\n",
    "def fit(epochs, lr, model, train_loader, val_loader):\n",
    "    history = []\n",
    "    optimizer = optim.SGD(model.parameters(), lr)\n",
    "    for epoch in range(epochs):\n",
    "        for batch in train_loader:\n",
    "            loss = model.training_step(batch)\n",
    "            loss.backward()\n",
    "            optimizer.step()\n",
    "            optimizer.zero_grad()\n",
    "        result = evaluate(model, val_loader)\n",
    "        model.epoch_end(epoch, result, epochs)\n",
    "        history.append(result)\n",
    "    return history\n"
   ]
  },
  {
   "cell_type": "code",
   "execution_count": 95,
   "metadata": {
    "scrolled": true
   },
   "outputs": [
    {
     "name": "stdout",
     "output_type": "stream",
     "text": [
      "Epoch [1], val_loss: 187353808.0000\n",
      "Epoch [2], val_loss: 180418336.0000\n",
      "Epoch [3], val_loss: 180055696.0000\n",
      "Epoch [4], val_loss: 180137728.0000\n",
      "Epoch [5], val_loss: 179825232.0000\n",
      "Epoch [6], val_loss: 180160320.0000\n",
      "Epoch [7], val_loss: 179986624.0000\n",
      "Epoch [8], val_loss: 179809728.0000\n",
      "Epoch [9], val_loss: 179755920.0000\n",
      "Epoch [10], val_loss: 179746336.0000\n"
     ]
    }
   ],
   "source": [
    "model = InsuranceModel()\n",
    "history1 = fit(10, 0.00001, model, train_loader, val_loader)"
   ]
  },
  {
   "cell_type": "code",
   "execution_count": null,
   "metadata": {},
   "outputs": [],
   "source": []
  }
 ],
 "metadata": {
  "kernelspec": {
   "display_name": "Python 3",
   "language": "python",
   "name": "python3"
  },
  "language_info": {
   "codemirror_mode": {
    "name": "ipython",
    "version": 3
   },
   "file_extension": ".py",
   "mimetype": "text/x-python",
   "name": "python",
   "nbconvert_exporter": "python",
   "pygments_lexer": "ipython3",
   "version": "3.8.5"
  }
 },
 "nbformat": 4,
 "nbformat_minor": 4
}
