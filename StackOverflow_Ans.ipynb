{
 "cells": [
  {
   "cell_type": "code",
   "execution_count": 1,
   "metadata": {},
   "outputs": [],
   "source": [
    "import pandas as pd"
   ]
  },
  {
   "cell_type": "code",
   "execution_count": 14,
   "metadata": {},
   "outputs": [],
   "source": [
    "df = pd.read_csv('BAJAJ-AUTO_stnd_PL.csv')\n",
    "\n",
    "for d in df.columns:\n",
    "    if df[d].isna().sum() > (0.25*len(df[d])):\n",
    "        df.rename(columns={df[d].name:'to_drop'},inplace=True)\n",
    "df.drop('to_drop', axis=1, inplace=True)           \n"
   ]
  },
  {
   "cell_type": "code",
   "execution_count": 15,
   "metadata": {},
   "outputs": [
    {
     "data": {
      "text/html": [
       "<div>\n",
       "<style scoped>\n",
       "    .dataframe tbody tr th:only-of-type {\n",
       "        vertical-align: middle;\n",
       "    }\n",
       "\n",
       "    .dataframe tbody tr th {\n",
       "        vertical-align: top;\n",
       "    }\n",
       "\n",
       "    .dataframe thead th {\n",
       "        text-align: right;\n",
       "    }\n",
       "</style>\n",
       "<table border=\"1\" class=\"dataframe\">\n",
       "  <thead>\n",
       "    <tr style=\"text-align: right;\">\n",
       "      <th></th>\n",
       "      <th>Unnamed: 0</th>\n",
       "      <th>0</th>\n",
       "      <th>1</th>\n",
       "      <th>2</th>\n",
       "      <th>3</th>\n",
       "      <th>4</th>\n",
       "      <th>5</th>\n",
       "    </tr>\n",
       "  </thead>\n",
       "  <tbody>\n",
       "    <tr>\n",
       "      <th>0</th>\n",
       "      <td>0</td>\n",
       "      <td>Profit &amp; Loss account of Bajaj Auto (in Rs. Cr.)</td>\n",
       "      <td>Mar 21</td>\n",
       "      <td>Mar 20</td>\n",
       "      <td>Mar 19</td>\n",
       "      <td>Mar 18</td>\n",
       "      <td>Mar 17</td>\n",
       "    </tr>\n",
       "    <tr>\n",
       "      <th>1</th>\n",
       "      <td>1</td>\n",
       "      <td>NaN</td>\n",
       "      <td>12 mths</td>\n",
       "      <td>12 mths</td>\n",
       "      <td>12 mths</td>\n",
       "      <td>12 mths</td>\n",
       "      <td>12 mths</td>\n",
       "    </tr>\n",
       "    <tr>\n",
       "      <th>2</th>\n",
       "      <td>2</td>\n",
       "      <td>INCOME</td>\n",
       "      <td>NaN</td>\n",
       "      <td>NaN</td>\n",
       "      <td>NaN</td>\n",
       "      <td>NaN</td>\n",
       "      <td>NaN</td>\n",
       "    </tr>\n",
       "    <tr>\n",
       "      <th>3</th>\n",
       "      <td>3</td>\n",
       "      <td>Revenue From Operations [Gross]</td>\n",
       "      <td>27132.9</td>\n",
       "      <td>29111.54</td>\n",
       "      <td>29567.25</td>\n",
       "      <td>25098.64</td>\n",
       "      <td>22694.87</td>\n",
       "    </tr>\n",
       "    <tr>\n",
       "      <th>4</th>\n",
       "      <td>4</td>\n",
       "      <td>Less: Excise/Sevice Tax/Other Levies</td>\n",
       "      <td>0.0</td>\n",
       "      <td>0.00</td>\n",
       "      <td>0.00</td>\n",
       "      <td>398.34</td>\n",
       "      <td>1321.35</td>\n",
       "    </tr>\n",
       "  </tbody>\n",
       "</table>\n",
       "</div>"
      ],
      "text/plain": [
       "   Unnamed: 0                                                 0        1  \\\n",
       "0           0  Profit & Loss account of Bajaj Auto (in Rs. Cr.)   Mar 21   \n",
       "1           1                                               NaN  12 mths   \n",
       "2           2                                            INCOME      NaN   \n",
       "3           3                   Revenue From Operations [Gross]  27132.9   \n",
       "4           4              Less: Excise/Sevice Tax/Other Levies      0.0   \n",
       "\n",
       "          2         3         4         5  \n",
       "0    Mar 20    Mar 19    Mar 18    Mar 17  \n",
       "1   12 mths   12 mths   12 mths   12 mths  \n",
       "2       NaN       NaN       NaN       NaN  \n",
       "3  29111.54  29567.25  25098.64  22694.87  \n",
       "4      0.00      0.00    398.34   1321.35  "
      ]
     },
     "execution_count": 15,
     "metadata": {},
     "output_type": "execute_result"
    }
   ],
   "source": [
    "df.head()"
   ]
  },
  {
   "cell_type": "code",
   "execution_count": null,
   "metadata": {},
   "outputs": [],
   "source": [
    "import requests\n",
    "import pandas as pd\n",
    "\n",
    "\n",
    "res = requests.get(url)\n",
    "\n",
    "df = pd.read_html(res.content)\n",
    "\n",
    "df.to_csv(filename+'.csv')\n"
   ]
  }
 ],
 "metadata": {
  "kernelspec": {
   "display_name": "Python 3",
   "language": "python",
   "name": "python3"
  },
  "language_info": {
   "codemirror_mode": {
    "name": "ipython",
    "version": 3
   },
   "file_extension": ".py",
   "mimetype": "text/x-python",
   "name": "python",
   "nbconvert_exporter": "python",
   "pygments_lexer": "ipython3",
   "version": "3.8.5"
  }
 },
 "nbformat": 4,
 "nbformat_minor": 4
}
