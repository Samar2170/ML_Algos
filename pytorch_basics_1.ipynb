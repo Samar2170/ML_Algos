{
 "cells": [
  {
   "cell_type": "code",
   "execution_count": 1,
   "metadata": {},
   "outputs": [],
   "source": [
    "import torch \n",
    "import numpy as np"
   ]
  },
  {
   "cell_type": "code",
   "execution_count": 3,
   "metadata": {},
   "outputs": [],
   "source": [
    "#tensors are numpy arrays \n",
    "data = [[1,2],[3,4]]\n",
    "x_d = torch.tensor(data)\n",
    "#torch.tensor array to tensor"
   ]
  },
  {
   "cell_type": "code",
   "execution_count": 4,
   "metadata": {},
   "outputs": [],
   "source": [
    "npa = np.array(data)\n",
    "x_np = torch.tensor(npa)"
   ]
  },
  {
   "cell_type": "code",
   "execution_count": 7,
   "metadata": {},
   "outputs": [
    {
     "name": "stdout",
     "output_type": "stream",
     "text": [
      "Ones tensor: \n",
      " tensor([[1, 1],\n",
      "        [1, 1]])\n"
     ]
    }
   ],
   "source": [
    "xo = torch.ones_like(x_d)\n",
    "print(f\"Ones tensor: \\n {xo}\")"
   ]
  },
  {
   "cell_type": "code",
   "execution_count": 11,
   "metadata": {},
   "outputs": [
    {
     "name": "stdout",
     "output_type": "stream",
     "text": [
      "Random Tensor:\n",
      " tensor([[0.8042, 0.5767],\n",
      "        [0.9862, 0.7518]])\n"
     ]
    }
   ],
   "source": [
    "xr = torch.rand_like(x_d, dtype=torch.float)\n",
    "print(f\"Random Tensor:\\n {xr}\")\n",
    "#ones like and rand like take args as dtype & shape. shape above is x_d"
   ]
  },
  {
   "cell_type": "code",
   "execution_count": 21,
   "metadata": {},
   "outputs": [
    {
     "name": "stdout",
     "output_type": "stream",
     "text": [
      " Random tensor : \n",
      " tensor([[[[[0.6886],\n",
      "           [0.0775]],\n",
      "\n",
      "          [[0.8540],\n",
      "           [0.9275]],\n",
      "\n",
      "          [[0.5028],\n",
      "           [0.6824]],\n",
      "\n",
      "          [[0.5737],\n",
      "           [0.8261]],\n",
      "\n",
      "          [[0.9815],\n",
      "           [0.5553]]],\n",
      "\n",
      "\n",
      "         [[[0.8451],\n",
      "           [0.6913]],\n",
      "\n",
      "          [[0.1099],\n",
      "           [0.1849]],\n",
      "\n",
      "          [[0.0518],\n",
      "           [0.6276]],\n",
      "\n",
      "          [[0.9972],\n",
      "           [0.5422]],\n",
      "\n",
      "          [[0.1505],\n",
      "           [0.1856]]],\n",
      "\n",
      "\n",
      "         [[[0.5853],\n",
      "           [0.4829]],\n",
      "\n",
      "          [[0.3994],\n",
      "           [0.7394]],\n",
      "\n",
      "          [[0.6473],\n",
      "           [0.3693]],\n",
      "\n",
      "          [[0.2919],\n",
      "           [0.0114]],\n",
      "\n",
      "          [[0.7240],\n",
      "           [0.3276]]]]]) \n",
      " Oners tensor : \n",
      " tensor([[[[[1.],\n",
      "           [1.]],\n",
      "\n",
      "          [[1.],\n",
      "           [1.]],\n",
      "\n",
      "          [[1.],\n",
      "           [1.]],\n",
      "\n",
      "          [[1.],\n",
      "           [1.]],\n",
      "\n",
      "          [[1.],\n",
      "           [1.]]],\n",
      "\n",
      "\n",
      "         [[[1.],\n",
      "           [1.]],\n",
      "\n",
      "          [[1.],\n",
      "           [1.]],\n",
      "\n",
      "          [[1.],\n",
      "           [1.]],\n",
      "\n",
      "          [[1.],\n",
      "           [1.]],\n",
      "\n",
      "          [[1.],\n",
      "           [1.]]],\n",
      "\n",
      "\n",
      "         [[[1.],\n",
      "           [1.]],\n",
      "\n",
      "          [[1.],\n",
      "           [1.]],\n",
      "\n",
      "          [[1.],\n",
      "           [1.]],\n",
      "\n",
      "          [[1.],\n",
      "           [1.]],\n",
      "\n",
      "          [[1.],\n",
      "           [1.]]]]]) \n",
      " Zeroes tensor : \n",
      " tensor([[[[[0.],\n",
      "           [0.]],\n",
      "\n",
      "          [[0.],\n",
      "           [0.]],\n",
      "\n",
      "          [[0.],\n",
      "           [0.]],\n",
      "\n",
      "          [[0.],\n",
      "           [0.]],\n",
      "\n",
      "          [[0.],\n",
      "           [0.]]],\n",
      "\n",
      "\n",
      "         [[[0.],\n",
      "           [0.]],\n",
      "\n",
      "          [[0.],\n",
      "           [0.]],\n",
      "\n",
      "          [[0.],\n",
      "           [0.]],\n",
      "\n",
      "          [[0.],\n",
      "           [0.]],\n",
      "\n",
      "          [[0.],\n",
      "           [0.]]],\n",
      "\n",
      "\n",
      "         [[[0.],\n",
      "           [0.]],\n",
      "\n",
      "          [[0.],\n",
      "           [0.]],\n",
      "\n",
      "          [[0.],\n",
      "           [0.]],\n",
      "\n",
      "          [[0.],\n",
      "           [0.]],\n",
      "\n",
      "          [[0.],\n",
      "           [0.]]]]]) \n"
     ]
    }
   ],
   "source": [
    "#shape is a tuple of tensor dimensions\n",
    "# first arg in tuple is row, 2nd is col for 2d data\n",
    "# for 3d & above 1st arg is the biggest array, containing an array of 2nd arg \n",
    "# which contains an array of 3rd arg on so on till the n-1 array. \n",
    "# and the nth array are element nested in n-1 array.\n",
    "shape = (1,3,5,2,1)\n",
    "rt = torch.rand(shape)\n",
    "ot = torch.ones(shape)\n",
    "zt = torch.zeros(shape)\n",
    "\n",
    "print(f\" Random tensor : \\n {rt} \")\n",
    "print(f\" Oners tensor : \\n {ot} \")\n",
    "print(f\" Zeroes tensor : \\n {zt} \")"
   ]
  },
  {
   "cell_type": "code",
   "execution_count": 22,
   "metadata": {},
   "outputs": [
    {
     "name": "stdout",
     "output_type": "stream",
     "text": [
      "Shape of tensor: torch.Size([3, 4])\n",
      "Datatype of tensor: torch.float32\n",
      "Device tensor is stored on: cpu\n"
     ]
    }
   ],
   "source": [
    "tensor = torch.rand(3,4)\n",
    "\n",
    "print(f\"Shape of tensor: {tensor.shape}\")\n",
    "print(f\"Datatype of tensor: {tensor.dtype}\")\n",
    "print(f\"Device tensor is stored on: {tensor.device}\")"
   ]
  },
  {
   "cell_type": "code",
   "execution_count": 30,
   "metadata": {},
   "outputs": [
    {
     "name": "stdout",
     "output_type": "stream",
     "text": [
      "tensor([[[0.0554, 0.9403, 0.0212, 0.1669],\n",
      "         [0.1307, 0.9906, 0.0897, 0.8741],\n",
      "         [0.4480, 0.8410, 0.7232, 0.0701]],\n",
      "\n",
      "        [[0.5257, 0.4249, 0.1368, 0.6388],\n",
      "         [0.7635, 0.2232, 0.5429, 0.8603],\n",
      "         [0.6709, 0.7650, 0.5857, 0.9459]]])\n",
      "First row:  tensor([[0.0554, 0.9403, 0.0212, 0.1669],\n",
      "        [0.1307, 0.9906, 0.0897, 0.8741],\n",
      "        [0.4480, 0.8410, 0.7232, 0.0701]])\n",
      "First col:  tensor([[0.0554, 0.9403, 0.0212, 0.1669],\n",
      "        [0.5257, 0.4249, 0.1368, 0.6388]])\n"
     ]
    }
   ],
   "source": [
    "tensor = torch.rand(2,3,4)\n",
    "print(tensor)\n",
    "\n",
    "print('First row: ',tensor[0])\n",
    "#sorts through first arg in shape tuple\n",
    "\n",
    "\n",
    "print('First col: ',tensor[:,0])\n",
    "# print('First row: ',tensor[..., -1])\n",
    "# tensor[:,1] = 0\n"
   ]
  },
  {
   "cell_type": "code",
   "execution_count": 39,
   "metadata": {},
   "outputs": [
    {
     "name": "stdout",
     "output_type": "stream",
     "text": [
      "[2 4]\n",
      "[1 4 7]\n",
      "[1 2 3 4 5]\n",
      "[6 7]\n",
      "[1 2 3 4 5]\n"
     ]
    }
   ],
   "source": [
    "arr = np.array([1, 2, 3, 4, 5, 6, 7])\n",
    "\n",
    "#return 3 els from array\n",
    "print(arr[1:5:2])\n",
    "\n",
    "#return 1st item and a gap of n specified so for below 0 3 6 items\n",
    "print(arr[::3])\n",
    "\n",
    "# no of elements from start reqd\n",
    "print(arr[:5])\n",
    "\n",
    "#no of elements to leave from start\n",
    "print(arr[5:])\n",
    "\n",
    "# n elements to leave from end\n",
    "print(arr[:-2])\n",
    "\n",
    "#els from first to last arg\n",
    "print(arr[2:4])\n",
    "\n"
   ]
  },
  {
   "cell_type": "code",
   "execution_count": 48,
   "metadata": {},
   "outputs": [
    {
     "name": "stdout",
     "output_type": "stream",
     "text": [
      "[[3 4 5]\n",
      " [4 5 6]]\n",
      "sd [2 4 5]\n",
      "td [3 4 5]\n",
      "[[2 3]\n",
      " [4 5]\n",
      " [5 6]]\n"
     ]
    }
   ],
   "source": [
    "a = np.array([[1,2,3],[3,4,5],[4,5,6]])\n",
    "\n",
    "#slice from first nested array\n",
    "print(a[1:])\n",
    "\n",
    "#get item at s arg indx for each row\n",
    "print('sd',a[...,1])\n",
    "\n",
    "# ell els at f arg indx\n",
    "print('td', a[1,...])\n",
    "\n",
    "# all item in arg are removed from each col\n",
    "print(a[...,1:])"
   ]
  },
  {
   "cell_type": "code",
   "execution_count": 52,
   "metadata": {},
   "outputs": [
    {
     "name": "stdout",
     "output_type": "stream",
     "text": [
      "tensor([[[0.7604, 0.4256],\n",
      "         [0.9791, 0.8250],\n",
      "         [0.7604, 0.4256],\n",
      "         [0.9791, 0.8250],\n",
      "         [0.7604, 0.4256],\n",
      "         [0.9791, 0.8250]],\n",
      "\n",
      "        [[0.9887, 0.7294],\n",
      "         [0.1465, 0.8618],\n",
      "         [0.9887, 0.7294],\n",
      "         [0.1465, 0.8618],\n",
      "         [0.9887, 0.7294],\n",
      "         [0.1465, 0.8618]]])\n"
     ]
    }
   ],
   "source": [
    "#joining tensors\n",
    "# works like append, data shall be same shape, \n",
    "#joins along axis of second arg in 3d data\n",
    "# joins along elements in 2d array\n",
    "tensor = torch.rand(2,2,2)\n",
    "t1 = torch.cat([tensor, tensor, tensor], dim=1)\n",
    "print(t1)"
   ]
  },
  {
   "cell_type": "code",
   "execution_count": 56,
   "metadata": {},
   "outputs": [
    {
     "name": "stdout",
     "output_type": "stream",
     "text": [
      "tensor([[0.1579, 0.0217],\n",
      "        [0.0742, 0.1254]])\n",
      "tensor([[0.0254, 0.0144],\n",
      "        [0.0144, 0.0212]])\n",
      "tensor([[0.0254, 0.0144],\n",
      "        [0.0144, 0.0212]])\n",
      "tensor([[0.9796, 0.8699],\n",
      "        [0.4400, 0.4698]])\n"
     ]
    }
   ],
   "source": [
    "tensor = torch.rand(2,2)\n",
    "y1 = tensor @ tensor.T\n",
    "y2 = tensor.matmul(tensor.T)\n",
    "y3 = torch.rand_like(tensor)\n",
    "print(tensor)\n",
    "print(y1)\n",
    "print(y2)\n",
    "print(y3)\n",
    "#y1 & y2 have the same value they prob multiply tensor with tensor.T"
   ]
  },
  {
   "cell_type": "code",
   "execution_count": 58,
   "metadata": {},
   "outputs": [
    {
     "name": "stdout",
     "output_type": "stream",
     "text": [
      "tensor([[0.9485, 0.7494, 0.5606],\n",
      "        [0.4606, 0.9769, 0.9011]])\n",
      "tensor([[0.9485, 0.4606],\n",
      "        [0.7494, 0.9769],\n",
      "        [0.5606, 0.9011]])\n"
     ]
    }
   ],
   "source": [
    "tensor = torch.rand(2,3)\n",
    "t2 = tensor.T\n",
    "print(tensor)\n",
    "print(t2)\n",
    "#tensor.T switches rows with columns"
   ]
  },
  {
   "cell_type": "code",
   "execution_count": 60,
   "metadata": {},
   "outputs": [
    {
     "name": "stdout",
     "output_type": "stream",
     "text": [
      "tensor([[[0.4541, 0.5572, 0.4305],\n",
      "         [0.9152, 0.8217, 0.2200]]])\n",
      "tensor([[[0.4541],\n",
      "         [0.9152]],\n",
      "\n",
      "        [[0.5572],\n",
      "         [0.8217]],\n",
      "\n",
      "        [[0.4305],\n",
      "         [0.2200]]])\n"
     ]
    }
   ],
   "source": [
    "tensor = torch.rand(1,2,3)\n",
    "t2 = tensor.T\n",
    "print(tensor)\n",
    "print(t2)\n",
    "#tensor.T switches rows with columns\n",
    "# in tranposing 3d & above arrays we go opposite direction \n",
    "# like example above so we will go from (1,2,3) array to (3,2,1)"
   ]
  },
  {
   "cell_type": "code",
   "execution_count": 63,
   "metadata": {},
   "outputs": [],
   "source": [
    "tensor = torch.rand(1,2,3)\n",
    "y0 = tensor * tensor.T"
   ]
  },
  {
   "cell_type": "code",
   "execution_count": 67,
   "metadata": {},
   "outputs": [
    {
     "name": "stdout",
     "output_type": "stream",
     "text": [
      "tensor([[[0.0479, 0.0075, 0.0891],\n",
      "         [0.0405, 0.0254, 0.0113]],\n",
      "\n",
      "        [[0.0075, 0.0012, 0.0140],\n",
      "         [0.0254, 0.0159, 0.0070]],\n",
      "\n",
      "        [[0.0891, 0.0140, 0.1657],\n",
      "         [0.0113, 0.0070, 0.0031]]])\n"
     ]
    }
   ],
   "source": [
    "print(y0)"
   ]
  },
  {
   "cell_type": "code",
   "execution_count": 72,
   "metadata": {},
   "outputs": [
    {
     "name": "stdout",
     "output_type": "stream",
     "text": [
      "tensor([[0.3925, 0.0338],\n",
      "        [0.9452, 0.2725],\n",
      "        [0.7955, 0.3024]])\n",
      "tensor([[0.1552, 0.3802, 0.3225],\n",
      "        [0.3802, 0.9676, 0.8343],\n",
      "        [0.3225, 0.8343, 0.7242]])\n",
      "tensor([[0.1552, 0.3802, 0.3225],\n",
      "        [0.3802, 0.9676, 0.8343],\n",
      "        [0.3225, 0.8343, 0.7242]])\n"
     ]
    }
   ],
   "source": [
    "tensor = torch.rand(3,2)\n",
    "\n",
    "y1 = tensor @ tensor.T\n",
    "y2 = tensor.matmul(tensor.T)\n",
    "print(tensor)\n",
    "print(y1)\n",
    "print(y2)"
   ]
  },
  {
   "cell_type": "code",
   "execution_count": 77,
   "metadata": {},
   "outputs": [],
   "source": [
    "tensor = torch.rand(1,3,5)\n",
    "t1 = tensor.T"
   ]
  },
  {
   "cell_type": "code",
   "execution_count": 78,
   "metadata": {},
   "outputs": [
    {
     "name": "stdout",
     "output_type": "stream",
     "text": [
      "tensor([[[0.0310, 0.7313, 0.8306, 0.4735, 0.7266],\n",
      "         [0.5642, 0.6906, 0.0296, 0.3960, 0.3238],\n",
      "         [0.7353, 0.6043, 0.6385, 0.5561, 0.3495]]])\n",
      "tensor([[[0.0310],\n",
      "         [0.5642],\n",
      "         [0.7353]],\n",
      "\n",
      "        [[0.7313],\n",
      "         [0.6906],\n",
      "         [0.6043]],\n",
      "\n",
      "        [[0.8306],\n",
      "         [0.0296],\n",
      "         [0.6385]],\n",
      "\n",
      "        [[0.4735],\n",
      "         [0.3960],\n",
      "         [0.5561]],\n",
      "\n",
      "        [[0.7266],\n",
      "         [0.3238],\n",
      "         [0.3495]]])\n"
     ]
    }
   ],
   "source": [
    "print(tensor)\n",
    "print(t1)"
   ]
  },
  {
   "cell_type": "code",
   "execution_count": null,
   "metadata": {},
   "outputs": [],
   "source": []
  }
 ],
 "metadata": {
  "kernelspec": {
   "display_name": "Python 3",
   "language": "python",
   "name": "python3"
  },
  "language_info": {
   "codemirror_mode": {
    "name": "ipython",
    "version": 3
   },
   "file_extension": ".py",
   "mimetype": "text/x-python",
   "name": "python",
   "nbconvert_exporter": "python",
   "pygments_lexer": "ipython3",
   "version": "3.8.5"
  }
 },
 "nbformat": 4,
 "nbformat_minor": 4
}
