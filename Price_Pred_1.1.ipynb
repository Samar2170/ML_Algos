{
 "cells": [
  {
   "cell_type": "code",
   "execution_count": 114,
   "metadata": {},
   "outputs": [],
   "source": [
    "import pandas as pd\n",
    "import math\n",
    "from sklearn import preprocessing, svm\n",
    "from sklearn.model_selection import train_test_split\n",
    "from sklearn.linear_model import LinearRegression\n",
    "import numpy as np\n",
    "import os"
   ]
  },
  {
   "cell_type": "code",
   "execution_count": 115,
   "metadata": {},
   "outputs": [],
   "source": [
    "dir_path = \"FinanceDB/Assets\"\n",
    "\n",
    "\n",
    "df_price = pd.read_csv(f'{dir_path}/corp_prices/RELIANCE_10yr_price_md.csv')"
   ]
  },
  {
   "cell_type": "code",
   "execution_count": 116,
   "metadata": {},
   "outputs": [],
   "source": [
    "df_price.set_index('date', inplace=True)\n",
    "df_price = df_price.drop('symbol',axis=1)"
   ]
  },
  {
   "cell_type": "code",
   "execution_count": 117,
   "metadata": {},
   "outputs": [
    {
     "data": {
      "text/html": [
       "<div>\n",
       "<style scoped>\n",
       "    .dataframe tbody tr th:only-of-type {\n",
       "        vertical-align: middle;\n",
       "    }\n",
       "\n",
       "    .dataframe tbody tr th {\n",
       "        vertical-align: top;\n",
       "    }\n",
       "\n",
       "    .dataframe thead th {\n",
       "        text-align: right;\n",
       "    }\n",
       "</style>\n",
       "<table border=\"1\" class=\"dataframe\">\n",
       "  <thead>\n",
       "    <tr style=\"text-align: right;\">\n",
       "      <th></th>\n",
       "      <th>low</th>\n",
       "      <th>volume</th>\n",
       "      <th>open</th>\n",
       "      <th>high</th>\n",
       "      <th>close</th>\n",
       "      <th>adjclose</th>\n",
       "      <th>splits</th>\n",
       "      <th>max_dv</th>\n",
       "      <th>close_dv</th>\n",
       "      <th>mov_1d</th>\n",
       "      <th>vol_1d</th>\n",
       "    </tr>\n",
       "    <tr>\n",
       "      <th>date</th>\n",
       "      <th></th>\n",
       "      <th></th>\n",
       "      <th></th>\n",
       "      <th></th>\n",
       "      <th></th>\n",
       "      <th></th>\n",
       "      <th></th>\n",
       "      <th></th>\n",
       "      <th></th>\n",
       "      <th></th>\n",
       "      <th></th>\n",
       "    </tr>\n",
       "  </thead>\n",
       "  <tbody>\n",
       "    <tr>\n",
       "      <th>1996-01-01</th>\n",
       "      <td>15.754989</td>\n",
       "      <td>48051995.0</td>\n",
       "      <td>15.859429</td>\n",
       "      <td>15.944529</td>\n",
       "      <td>15.917452</td>\n",
       "      <td>10.543346</td>\n",
       "      <td>0.0</td>\n",
       "      <td>0.012030</td>\n",
       "      <td>0.003659</td>\n",
       "      <td>NaN</td>\n",
       "      <td>NaN</td>\n",
       "    </tr>\n",
       "    <tr>\n",
       "      <th>1996-01-02</th>\n",
       "      <td>15.677626</td>\n",
       "      <td>77875009.0</td>\n",
       "      <td>15.878770</td>\n",
       "      <td>15.956133</td>\n",
       "      <td>15.793671</td>\n",
       "      <td>10.461358</td>\n",
       "      <td>0.0</td>\n",
       "      <td>0.017765</td>\n",
       "      <td>-0.005359</td>\n",
       "      <td>-0.007776</td>\n",
       "      <td>0.620640</td>\n",
       "    </tr>\n",
       "    <tr>\n",
       "      <th>1996-01-03</th>\n",
       "      <td>15.878770</td>\n",
       "      <td>96602936.0</td>\n",
       "      <td>16.052837</td>\n",
       "      <td>16.783918</td>\n",
       "      <td>15.913584</td>\n",
       "      <td>10.540785</td>\n",
       "      <td>0.0</td>\n",
       "      <td>0.057004</td>\n",
       "      <td>-0.008675</td>\n",
       "      <td>0.007592</td>\n",
       "      <td>0.240487</td>\n",
       "    </tr>\n",
       "    <tr>\n",
       "      <th>1996-01-04</th>\n",
       "      <td>15.553845</td>\n",
       "      <td>100099436.0</td>\n",
       "      <td>15.762726</td>\n",
       "      <td>15.813012</td>\n",
       "      <td>15.766594</td>\n",
       "      <td>10.443419</td>\n",
       "      <td>0.0</td>\n",
       "      <td>0.016663</td>\n",
       "      <td>0.000245</td>\n",
       "      <td>-0.009237</td>\n",
       "      <td>0.036195</td>\n",
       "    </tr>\n",
       "    <tr>\n",
       "      <th>1996-01-05</th>\n",
       "      <td>15.522900</td>\n",
       "      <td>76935930.0</td>\n",
       "      <td>15.704703</td>\n",
       "      <td>15.704703</td>\n",
       "      <td>15.658285</td>\n",
       "      <td>10.371678</td>\n",
       "      <td>0.0</td>\n",
       "      <td>0.011712</td>\n",
       "      <td>-0.002956</td>\n",
       "      <td>-0.006870</td>\n",
       "      <td>-0.231405</td>\n",
       "    </tr>\n",
       "  </tbody>\n",
       "</table>\n",
       "</div>"
      ],
      "text/plain": [
       "                  low       volume       open       high      close  \\\n",
       "date                                                                  \n",
       "1996-01-01  15.754989   48051995.0  15.859429  15.944529  15.917452   \n",
       "1996-01-02  15.677626   77875009.0  15.878770  15.956133  15.793671   \n",
       "1996-01-03  15.878770   96602936.0  16.052837  16.783918  15.913584   \n",
       "1996-01-04  15.553845  100099436.0  15.762726  15.813012  15.766594   \n",
       "1996-01-05  15.522900   76935930.0  15.704703  15.704703  15.658285   \n",
       "\n",
       "             adjclose  splits    max_dv  close_dv    mov_1d    vol_1d  \n",
       "date                                                                   \n",
       "1996-01-01  10.543346     0.0  0.012030  0.003659       NaN       NaN  \n",
       "1996-01-02  10.461358     0.0  0.017765 -0.005359 -0.007776  0.620640  \n",
       "1996-01-03  10.540785     0.0  0.057004 -0.008675  0.007592  0.240487  \n",
       "1996-01-04  10.443419     0.0  0.016663  0.000245 -0.009237  0.036195  \n",
       "1996-01-05  10.371678     0.0  0.011712 -0.002956 -0.006870 -0.231405  "
      ]
     },
     "execution_count": 117,
     "metadata": {},
     "output_type": "execute_result"
    }
   ],
   "source": [
    "df_price = df_price.drop('Unnamed: 0', axis=1)\n",
    "df_price = df_price.drop('dividends', axis=1)\n",
    "df_price.head()"
   ]
  },
  {
   "cell_type": "code",
   "execution_count": 118,
   "metadata": {},
   "outputs": [
    {
     "data": {
      "text/html": [
       "<div>\n",
       "<style scoped>\n",
       "    .dataframe tbody tr th:only-of-type {\n",
       "        vertical-align: middle;\n",
       "    }\n",
       "\n",
       "    .dataframe tbody tr th {\n",
       "        vertical-align: top;\n",
       "    }\n",
       "\n",
       "    .dataframe thead th {\n",
       "        text-align: right;\n",
       "    }\n",
       "</style>\n",
       "<table border=\"1\" class=\"dataframe\">\n",
       "  <thead>\n",
       "    <tr style=\"text-align: right;\">\n",
       "      <th></th>\n",
       "      <th>low</th>\n",
       "      <th>volume</th>\n",
       "      <th>open</th>\n",
       "      <th>high</th>\n",
       "      <th>close</th>\n",
       "      <th>adjclose</th>\n",
       "      <th>max_dv</th>\n",
       "      <th>close_dv</th>\n",
       "      <th>mov_1d</th>\n",
       "      <th>vol_1d</th>\n",
       "    </tr>\n",
       "    <tr>\n",
       "      <th>date</th>\n",
       "      <th></th>\n",
       "      <th></th>\n",
       "      <th></th>\n",
       "      <th></th>\n",
       "      <th></th>\n",
       "      <th></th>\n",
       "      <th></th>\n",
       "      <th></th>\n",
       "      <th></th>\n",
       "      <th></th>\n",
       "    </tr>\n",
       "  </thead>\n",
       "  <tbody>\n",
       "    <tr>\n",
       "      <th>1996-01-01</th>\n",
       "      <td>15.754989</td>\n",
       "      <td>48051995.0</td>\n",
       "      <td>15.859429</td>\n",
       "      <td>15.944529</td>\n",
       "      <td>15.917452</td>\n",
       "      <td>10.543346</td>\n",
       "      <td>0.012030</td>\n",
       "      <td>0.003659</td>\n",
       "      <td>NaN</td>\n",
       "      <td>NaN</td>\n",
       "    </tr>\n",
       "    <tr>\n",
       "      <th>1996-01-02</th>\n",
       "      <td>15.677626</td>\n",
       "      <td>77875009.0</td>\n",
       "      <td>15.878770</td>\n",
       "      <td>15.956133</td>\n",
       "      <td>15.793671</td>\n",
       "      <td>10.461358</td>\n",
       "      <td>0.017765</td>\n",
       "      <td>-0.005359</td>\n",
       "      <td>-0.007776</td>\n",
       "      <td>0.620640</td>\n",
       "    </tr>\n",
       "    <tr>\n",
       "      <th>1996-01-03</th>\n",
       "      <td>15.878770</td>\n",
       "      <td>96602936.0</td>\n",
       "      <td>16.052837</td>\n",
       "      <td>16.783918</td>\n",
       "      <td>15.913584</td>\n",
       "      <td>10.540785</td>\n",
       "      <td>0.057004</td>\n",
       "      <td>-0.008675</td>\n",
       "      <td>0.007592</td>\n",
       "      <td>0.240487</td>\n",
       "    </tr>\n",
       "    <tr>\n",
       "      <th>1996-01-04</th>\n",
       "      <td>15.553845</td>\n",
       "      <td>100099436.0</td>\n",
       "      <td>15.762726</td>\n",
       "      <td>15.813012</td>\n",
       "      <td>15.766594</td>\n",
       "      <td>10.443419</td>\n",
       "      <td>0.016663</td>\n",
       "      <td>0.000245</td>\n",
       "      <td>-0.009237</td>\n",
       "      <td>0.036195</td>\n",
       "    </tr>\n",
       "    <tr>\n",
       "      <th>1996-01-05</th>\n",
       "      <td>15.522900</td>\n",
       "      <td>76935930.0</td>\n",
       "      <td>15.704703</td>\n",
       "      <td>15.704703</td>\n",
       "      <td>15.658285</td>\n",
       "      <td>10.371678</td>\n",
       "      <td>0.011712</td>\n",
       "      <td>-0.002956</td>\n",
       "      <td>-0.006870</td>\n",
       "      <td>-0.231405</td>\n",
       "    </tr>\n",
       "  </tbody>\n",
       "</table>\n",
       "</div>"
      ],
      "text/plain": [
       "                  low       volume       open       high      close  \\\n",
       "date                                                                  \n",
       "1996-01-01  15.754989   48051995.0  15.859429  15.944529  15.917452   \n",
       "1996-01-02  15.677626   77875009.0  15.878770  15.956133  15.793671   \n",
       "1996-01-03  15.878770   96602936.0  16.052837  16.783918  15.913584   \n",
       "1996-01-04  15.553845  100099436.0  15.762726  15.813012  15.766594   \n",
       "1996-01-05  15.522900   76935930.0  15.704703  15.704703  15.658285   \n",
       "\n",
       "             adjclose    max_dv  close_dv    mov_1d    vol_1d  \n",
       "date                                                           \n",
       "1996-01-01  10.543346  0.012030  0.003659       NaN       NaN  \n",
       "1996-01-02  10.461358  0.017765 -0.005359 -0.007776  0.620640  \n",
       "1996-01-03  10.540785  0.057004 -0.008675  0.007592  0.240487  \n",
       "1996-01-04  10.443419  0.016663  0.000245 -0.009237  0.036195  \n",
       "1996-01-05  10.371678  0.011712 -0.002956 -0.006870 -0.231405  "
      ]
     },
     "execution_count": 118,
     "metadata": {},
     "output_type": "execute_result"
    }
   ],
   "source": [
    "df_price = df_price.drop('splits', axis=1)\n",
    "df_price.head()"
   ]
  },
  {
   "cell_type": "code",
   "execution_count": 119,
   "metadata": {},
   "outputs": [
    {
     "name": "stdout",
     "output_type": "stream",
     "text": [
      "6384\n"
     ]
    }
   ],
   "source": [
    "dfp['max_dv'] = dfp['max_dv'] * 100\n",
    "dfp['mov_1d'] = dfp['mov_1d'] * 100\n",
    "dfp['close_dv'] = dfp['close_dv'] * 100\n",
    "dfp['vol_1d'] = dfp['vol_1d'] * 100\n",
    "dfp = dfp[['low','volume','open','high','adjclose','max_dv', 'close_dv','mov_1d','vol_1d']]\n",
    "dfp.replace([np.inf, -np.inf], np.nan, inplace=True)\n",
    "dfp.head()\n",
    "dfp.fillna(-9999, inplace=True)\n",
    "forecast_col = 'close'\n",
    "forecast_out = int(math.ceil(0.01*len(df_price)))\n",
    "dfp = df_price\n",
    "print(len(dfp))"
   ]
  },
  {
   "cell_type": "code",
   "execution_count": 120,
   "metadata": {},
   "outputs": [
    {
     "name": "stdout",
     "output_type": "stream",
     "text": [
      "6384\n"
     ]
    }
   ],
   "source": [
    "dfp['label'] = dfp[forecast_col].shift(-forecast_out)\n",
    "dfp.replace([np.inf, -np.inf], np.nan, inplace=True)\n",
    "dfp.fillna(-9999, inplace=True)\n",
    "print(len(dfp))"
   ]
  },
  {
   "cell_type": "code",
   "execution_count": 121,
   "metadata": {},
   "outputs": [
    {
     "name": "stdout",
     "output_type": "stream",
     "text": [
      "(6320, 10)\n",
      "(6320,)\n"
     ]
    }
   ],
   "source": [
    "X = np.array(dfp.drop(['label'],1))\n",
    "X = preprocessing.scale(X)\n",
    "X_lately = X[-forecast_out:]\n",
    "X = X[:-forecast_out]\n",
    "\n",
    "y = np.array(dfp['label'])\n",
    "y= y[:-forecast_out]\n",
    "\n",
    "dfp.fillna(-9999,inplace=True)\n",
    "\n",
    "print(X.shape)\n",
    "print(y.shape)"
   ]
  },
  {
   "cell_type": "code",
   "execution_count": 122,
   "metadata": {},
   "outputs": [
    {
     "name": "stdout",
     "output_type": "stream",
     "text": [
      "LinearRegression()\n"
     ]
    }
   ],
   "source": [
    "X_train, X_test, y_train, y_test = train_test_split(X,y, test_size=0.1)\n",
    "clf = LinearRegression()\n",
    "conf=clf.fit(X_train, y_train)\n",
    "print(conf)"
   ]
  },
  {
   "cell_type": "code",
   "execution_count": 124,
   "metadata": {},
   "outputs": [],
   "source": [
    "conf = clf.score(X_test, y_test)\n",
    "forecast_set = clf.predict(X_lately)"
   ]
  },
  {
   "cell_type": "code",
   "execution_count": 125,
   "metadata": {},
   "outputs": [
    {
     "name": "stdout",
     "output_type": "stream",
     "text": [
      "[2157.90500947 2189.11322012 2208.2029869  2067.10969644 2117.54840998\n",
      " 2322.2490232  2200.4316476  2144.93390642 2148.48462727 2477.49251332\n",
      " 2191.82329649 2312.03395342 2347.87805242 2287.81543917 2235.66941651\n",
      " 2299.12321321 2219.37884842 2127.91854529 2168.69286227 2184.66090474\n",
      " 2366.51051448 2092.32708077 2198.39856344 2087.23942956 2115.52870765\n",
      " 2030.40174741 2140.9405497  2113.58271218 2033.442418   2082.65115302\n",
      " 2013.17298324 2132.53300311 2027.06053878 2001.98032894 2016.96473223\n",
      " 1944.95224353 2032.66301729 1949.85047338 1923.54437775 1925.46339395\n",
      " 1956.63431453 1921.17261237 2044.84435129 2115.0799478  2011.74837229\n",
      " 2075.40676265 2091.63880992 2001.11298569 2030.79945003 1955.10671633\n",
      " 1948.51532237 1971.56263993 1945.24800047 1963.21627685 1926.98410474\n",
      " 1971.12834468 1999.22282695 2022.98453621 2079.71673543 2018.82997522\n",
      " 2013.94883957 2001.89830993 2004.46762865 1949.5213405 ] 0.5766586543487882 64\n"
     ]
    }
   ],
   "source": [
    "print(forecast_set, confidence, forecast_out)\n"
   ]
  },
  {
   "cell_type": "code",
   "execution_count": 129,
   "metadata": {},
   "outputs": [
    {
     "data": {
      "text/plain": [
       "Timestamp('2021-05-26 00:00:00')"
      ]
     },
     "execution_count": 129,
     "metadata": {},
     "output_type": "execute_result"
    }
   ],
   "source": [
    "dfp['Forecast'] = np.nan\n",
    "last_date = dfp.iloc[-1].name\n",
    "last_date = pd.to_datetime(last_date)\n",
    "last_date"
   ]
  },
  {
   "cell_type": "code",
   "execution_count": 130,
   "metadata": {},
   "outputs": [],
   "source": [
    "last_unix = last_date.timestamp()\n",
    "one_day = 86400\n",
    "next_unix = last_unix+one_day"
   ]
  },
  {
   "cell_type": "code",
   "execution_count": 136,
   "metadata": {},
   "outputs": [],
   "source": [
    "import datetime\n",
    "for i in forecast_set:\n",
    "    next_date =datetime.datetime.fromtimestamp(next_unix)\n",
    "    next_unix += 86400\n",
    "    dfp.loc[next_date] = [np.nan for _ in range(len(dfp.columns) - 1)]+ [i]"
   ]
  },
  {
   "cell_type": "code",
   "execution_count": 137,
   "metadata": {},
   "outputs": [
    {
     "data": {
      "image/png": "[encoded data removed]",
      "text/plain": [
       "<Figure size 432x288 with 1 Axes>"
      ]
     },
     "metadata": {},
     "output_type": "display_data"
    }
   ],
   "source": [
    "import matplotlib.pyplot as plt\n",
    "from matplotlib import style\n",
    "style.use('ggplot')\n",
    "\n",
    "\n",
    "dfp['close'].plot()\n",
    "dfp['Forecast'].plot()\n",
    "plt.legend(loc=4)\n",
    "plt.xlabel('date')\n",
    "plt.ylabel('price')\n",
    "plt.show()"
   ]
  },
  {
   "cell_type": "code",
   "execution_count": 138,
   "metadata": {},
   "outputs": [],
   "source": [
    "import pickle\n",
    "with open('PricePred_LR.pickle','wb') as f:\n",
    "    pickle.dump(clf,f)"
   ]
  },
  {
   "cell_type": "code",
   "execution_count": null,
   "metadata": {},
   "outputs": [],
   "source": []
  }
 ],
 "metadata": {
  "kernelspec": {
   "display_name": "Python 3",
   "language": "python",
   "name": "python3"
  },
  "language_info": {
   "codemirror_mode": {
    "name": "ipython",
    "version": 3
   },
   "file_extension": ".py",
   "mimetype": "text/x-python",
   "name": "python",
   "nbconvert_exporter": "python",
   "pygments_lexer": "ipython3",
   "version": "3.8.5"
  }
 },
 "nbformat": 4,
 "nbformat_minor": 4
}
